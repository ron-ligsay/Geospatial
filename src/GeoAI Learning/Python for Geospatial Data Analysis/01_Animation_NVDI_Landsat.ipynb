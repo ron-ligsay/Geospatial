{
 "cells": [
  {
   "attachments": {},
   "cell_type": "markdown",
   "metadata": {},
   "source": [
    "# NDVI Animation with Landsat"
   ]
  },
  {
   "cell_type": "code",
   "execution_count": 1,
   "metadata": {},
   "outputs": [
    {
     "name": "stdout",
     "output_type": "stream",
     "text": [
      "Requirement already satisfied: imageio in c:\\users\\aky\\appdata\\local\\programs\\python\\python38\\lib\\site-packages (2.27.0)\n",
      "Requirement already satisfied: pillow>=8.3.2 in c:\\users\\aky\\appdata\\local\\programs\\python\\python38\\lib\\site-packages (from imageio) (9.2.0)\n",
      "Requirement already satisfied: numpy in c:\\users\\aky\\appdata\\local\\programs\\python\\python38\\lib\\site-packages (from imageio) (1.22.3)\n"
     ]
    }
   ],
   "source": [
    "# Install Libraries\n",
    "!pip install imageio"
   ]
  },
  {
   "cell_type": "code",
   "execution_count": 2,
   "metadata": {},
   "outputs": [
    {
     "name": "stdout",
     "output_type": "stream",
     "text": [
      "Collecting rasterio\n",
      "  Downloading rasterio-1.3.6-cp38-cp38-win_amd64.whl (22.4 MB)\n",
      "     ---------------------------------------- 22.4/22.4 MB 8.7 MB/s eta 0:00:00\n",
      "Requirement already satisfied: numpy>=1.18 in c:\\users\\aky\\appdata\\local\\programs\\python\\python38\\lib\\site-packages (from rasterio) (1.22.3)\n",
      "Collecting click-plugins\n",
      "  Downloading click_plugins-1.1.1-py2.py3-none-any.whl (7.5 kB)\n",
      "Collecting cligj>=0.5\n",
      "  Downloading cligj-0.7.2-py3-none-any.whl (7.1 kB)\n",
      "Collecting affine\n",
      "  Downloading affine-2.4.0-py3-none-any.whl (15 kB)\n",
      "Collecting snuggs>=1.4.1\n",
      "  Downloading snuggs-1.4.7-py3-none-any.whl (5.4 kB)\n",
      "Requirement already satisfied: click>=4.0 in c:\\users\\aky\\appdata\\local\\programs\\python\\python38\\lib\\site-packages (from rasterio) (8.1.3)\n",
      "Requirement already satisfied: attrs in c:\\users\\aky\\appdata\\local\\programs\\python\\python38\\lib\\site-packages (from rasterio) (22.1.0)\n",
      "Requirement already satisfied: setuptools in c:\\users\\aky\\appdata\\local\\programs\\python\\python38\\lib\\site-packages (from rasterio) (62.1.0)\n",
      "Requirement already satisfied: certifi in c:\\users\\aky\\appdata\\local\\programs\\python\\python38\\lib\\site-packages (from rasterio) (2022.9.24)\n",
      "Requirement already satisfied: colorama in c:\\users\\aky\\appdata\\local\\programs\\python\\python38\\lib\\site-packages (from click>=4.0->rasterio) (0.4.5)\n",
      "Requirement already satisfied: pyparsing>=2.1.6 in c:\\users\\aky\\appdata\\local\\programs\\python\\python38\\lib\\site-packages (from snuggs>=1.4.1->rasterio) (3.0.9)\n",
      "Installing collected packages: snuggs, affine, cligj, click-plugins, rasterio\n",
      "Successfully installed affine-2.4.0 click-plugins-1.1.1 cligj-0.7.2 rasterio-1.3.6 snuggs-1.4.7\n"
     ]
    }
   ],
   "source": [
    "!pip install rasterio"
   ]
  },
  {
   "cell_type": "code",
   "execution_count": 3,
   "metadata": {},
   "outputs": [
    {
     "name": "stdout",
     "output_type": "stream",
     "text": [
      "Collecting geopandas\n",
      "  Downloading geopandas-0.12.2-py3-none-any.whl (1.1 MB)\n",
      "     ---------------------------------------- 1.1/1.1 MB 13.3 MB/s eta 0:00:00\n",
      "Requirement already satisfied: pandas>=1.0.0 in c:\\users\\aky\\appdata\\local\\programs\\python\\python38\\lib\\site-packages (from geopandas) (1.4.3)\n",
      "Collecting shapely>=1.7\n",
      "  Downloading shapely-2.0.1-cp38-cp38-win_amd64.whl (1.4 MB)\n",
      "     ---------------------------------------- 1.4/1.4 MB 14.8 MB/s eta 0:00:00\n",
      "Requirement already satisfied: packaging in c:\\users\\aky\\appdata\\local\\programs\\python\\python38\\lib\\site-packages (from geopandas) (21.3)\n",
      "Collecting pyproj>=2.6.1.post1\n",
      "  Downloading pyproj-3.5.0-cp38-cp38-win_amd64.whl (5.1 MB)\n",
      "     ---------------------------------------- 5.1/5.1 MB 8.4 MB/s eta 0:00:00\n",
      "Collecting fiona>=1.8\n",
      "  Downloading Fiona-1.9.2-cp38-cp38-win_amd64.whl (22.0 MB)\n",
      "     ---------------------------------------- 22.0/22.0 MB 9.4 MB/s eta 0:00:00\n",
      "Requirement already satisfied: certifi in c:\\users\\aky\\appdata\\local\\programs\\python\\python38\\lib\\site-packages (from fiona>=1.8->geopandas) (2022.9.24)\n",
      "Requirement already satisfied: click-plugins>=1.0 in c:\\users\\aky\\appdata\\local\\programs\\python\\python38\\lib\\site-packages (from fiona>=1.8->geopandas) (1.1.1)\n",
      "Requirement already satisfied: cligj>=0.5 in c:\\users\\aky\\appdata\\local\\programs\\python\\python38\\lib\\site-packages (from fiona>=1.8->geopandas) (0.7.2)\n",
      "Collecting munch>=2.3.2\n",
      "  Downloading munch-2.5.0-py2.py3-none-any.whl (10 kB)\n",
      "Requirement already satisfied: importlib-metadata in c:\\users\\aky\\appdata\\local\\programs\\python\\python38\\lib\\site-packages (from fiona>=1.8->geopandas) (4.13.0)\n",
      "Requirement already satisfied: attrs>=19.2.0 in c:\\users\\aky\\appdata\\local\\programs\\python\\python38\\lib\\site-packages (from fiona>=1.8->geopandas) (22.1.0)\n",
      "Requirement already satisfied: click~=8.0 in c:\\users\\aky\\appdata\\local\\programs\\python\\python38\\lib\\site-packages (from fiona>=1.8->geopandas) (8.1.3)\n",
      "Requirement already satisfied: pytz>=2020.1 in c:\\users\\aky\\appdata\\local\\programs\\python\\python38\\lib\\site-packages (from pandas>=1.0.0->geopandas) (2022.1)\n",
      "Requirement already satisfied: numpy>=1.18.5 in c:\\users\\aky\\appdata\\local\\programs\\python\\python38\\lib\\site-packages (from pandas>=1.0.0->geopandas) (1.22.3)\n",
      "Requirement already satisfied: python-dateutil>=2.8.1 in c:\\users\\aky\\appdata\\local\\programs\\python\\python38\\lib\\site-packages (from pandas>=1.0.0->geopandas) (2.8.2)\n",
      "Requirement already satisfied: pyparsing!=3.0.5,>=2.0.2 in c:\\users\\aky\\appdata\\local\\programs\\python\\python38\\lib\\site-packages (from packaging->geopandas) (3.0.9)\n",
      "Requirement already satisfied: colorama in c:\\users\\aky\\appdata\\local\\programs\\python\\python38\\lib\\site-packages (from click~=8.0->fiona>=1.8->geopandas) (0.4.5)\n",
      "Requirement already satisfied: six in c:\\users\\aky\\appdata\\local\\programs\\python\\python38\\lib\\site-packages (from munch>=2.3.2->fiona>=1.8->geopandas) (1.16.0)\n",
      "Requirement already satisfied: zipp>=0.5 in c:\\users\\aky\\appdata\\local\\programs\\python\\python38\\lib\\site-packages (from importlib-metadata->fiona>=1.8->geopandas) (3.9.0)\n",
      "Installing collected packages: shapely, pyproj, munch, fiona, geopandas\n",
      "Successfully installed fiona-1.9.2 geopandas-0.12.2 munch-2.5.0 pyproj-3.5.0 shapely-2.0.1\n"
     ]
    }
   ],
   "source": [
    "!pip install geopandas"
   ]
  },
  {
   "cell_type": "code",
   "execution_count": 1,
   "metadata": {},
   "outputs": [
    {
     "ename": "ModuleNotFoundError",
     "evalue": "No module named 'geopandas'",
     "output_type": "error",
     "traceback": [
      "\u001b[1;31m---------------------------------------------------------------------------\u001b[0m",
      "\u001b[1;31mModuleNotFoundError\u001b[0m                       Traceback (most recent call last)",
      "\u001b[1;32mc:\\Users\\aky\\Documents\\Programs\\Geospatial\\src\\GeoAI Learning\\Python for Geospatial Data Analysis\\NVDI Animation with Landsat.ipynb Cell 3\u001b[0m in \u001b[0;36m6\n\u001b[0;32m      <a href='vscode-notebook-cell:/c%3A/Users/aky/Documents/Programs/Geospatial/src/GeoAI%20Learning/Python%20for%20Geospatial%20Data%20Analysis/NVDI%20Animation%20with%20Landsat.ipynb#W2sZmlsZQ%3D%3D?line=3'>4</a>\u001b[0m \u001b[39mimport\u001b[39;00m \u001b[39mimageio\u001b[39;00m\u001b[39m.\u001b[39;00m\u001b[39mv2\u001b[39;00m \u001b[39mas\u001b[39;00m \u001b[39mimageio\u001b[39;00m\n\u001b[0;32m      <a href='vscode-notebook-cell:/c%3A/Users/aky/Documents/Programs/Geospatial/src/GeoAI%20Learning/Python%20for%20Geospatial%20Data%20Analysis/NVDI%20Animation%20with%20Landsat.ipynb#W2sZmlsZQ%3D%3D?line=4'>5</a>\u001b[0m \u001b[39mimport\u001b[39;00m \u001b[39mnumpy\u001b[39;00m \u001b[39mas\u001b[39;00m \u001b[39mnp\u001b[39;00m\n\u001b[1;32m----> <a href='vscode-notebook-cell:/c%3A/Users/aky/Documents/Programs/Geospatial/src/GeoAI%20Learning/Python%20for%20Geospatial%20Data%20Analysis/NVDI%20Animation%20with%20Landsat.ipynb#W2sZmlsZQ%3D%3D?line=5'>6</a>\u001b[0m \u001b[39mimport\u001b[39;00m \u001b[39mgeopandas\u001b[39;00m \u001b[39mas\u001b[39;00m \u001b[39mgpd\u001b[39;00m\n\u001b[0;32m      <a href='vscode-notebook-cell:/c%3A/Users/aky/Documents/Programs/Geospatial/src/GeoAI%20Learning/Python%20for%20Geospatial%20Data%20Analysis/NVDI%20Animation%20with%20Landsat.ipynb#W2sZmlsZQ%3D%3D?line=6'>7</a>\u001b[0m \u001b[39mimport\u001b[39;00m \u001b[39mmatplotlib\u001b[39;00m\n\u001b[0;32m      <a href='vscode-notebook-cell:/c%3A/Users/aky/Documents/Programs/Geospatial/src/GeoAI%20Learning/Python%20for%20Geospatial%20Data%20Analysis/NVDI%20Animation%20with%20Landsat.ipynb#W2sZmlsZQ%3D%3D?line=7'>8</a>\u001b[0m \u001b[39mimport\u001b[39;00m \u001b[39mmatplotlib\u001b[39;00m\u001b[39m.\u001b[39;00m\u001b[39mpyplot\u001b[39;00m \u001b[39mas\u001b[39;00m \u001b[39mplt\u001b[39;00m\n",
      "\u001b[1;31mModuleNotFoundError\u001b[0m: No module named 'geopandas'"
     ]
    }
   ],
   "source": [
    "# Import Libraries\n",
    "import os\n",
    "import imageio\n",
    "import imageio.v2 as imageio\n",
    "import numpy as np\n",
    "import geopandas as gpd\n",
    "import matplotlib\n",
    "import matplotlib.pyplot as plt\n",
    "import matplotlib.pyplot as mplot\n",
    "import matplotlib.image as mpimg\n",
    "from matplotlib.colors import ListedColormap\n",
    "import rasterio\n",
    "from rasterio.plot import show, show_hist"
   ]
  },
  {
   "cell_type": "code",
   "execution_count": null,
   "metadata": {},
   "outputs": [],
   "source": []
  }
 ],
 "metadata": {
  "kernelspec": {
   "display_name": "Python 3",
   "language": "python",
   "name": "python3"
  },
  "language_info": {
   "codemirror_mode": {
    "name": "ipython",
    "version": 3
   },
   "file_extension": ".py",
   "mimetype": "text/x-python",
   "name": "python",
   "nbconvert_exporter": "python",
   "pygments_lexer": "ipython3",
   "version": "3.8.5"
  },
  "orig_nbformat": 4
 },
 "nbformat": 4,
 "nbformat_minor": 2
}
